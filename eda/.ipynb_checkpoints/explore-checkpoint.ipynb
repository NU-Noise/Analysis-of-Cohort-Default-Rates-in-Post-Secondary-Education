{
 "cells": [
  {
   "cell_type": "code",
   "execution_count": 1,
   "metadata": {},
   "outputs": [],
   "source": [
    "from pyforest import *"
   ]
  },
  {
   "cell_type": "markdown",
   "metadata": {},
   "source": [
    "# Default Rate Data"
   ]
  },
  {
   "cell_type": "code",
   "execution_count": 2,
   "metadata": {},
   "outputs": [
    {
     "data": {
      "application/javascript": [
       "\n",
       "        if (window._pyforest_update_imports_cell) { window._pyforest_update_imports_cell('import pandas as pd'); }\n",
       "    "
      ],
      "text/plain": [
       "<IPython.core.display.Javascript object>"
      ]
     },
     "metadata": {},
     "output_type": "display_data"
    }
   ],
   "source": [
    "dRate = pd.read_csv(r'/Users/dillorr/Documents/school/NU/MSDS/ANA699A/project/peps300.csv', encoding = \"ISO-8859-1\")"
   ]
  },
  {
   "cell_type": "code",
   "execution_count": 3,
   "metadata": {},
   "outputs": [
    {
     "data": {
      "text/html": [
       "<div>\n",
       "<style scoped>\n",
       "    .dataframe tbody tr th:only-of-type {\n",
       "        vertical-align: middle;\n",
       "    }\n",
       "\n",
       "    .dataframe tbody tr th {\n",
       "        vertical-align: top;\n",
       "    }\n",
       "\n",
       "    .dataframe thead th {\n",
       "        text-align: right;\n",
       "    }\n",
       "</style>\n",
       "<table border=\"1\" class=\"dataframe\">\n",
       "  <thead>\n",
       "    <tr style=\"text-align: right;\">\n",
       "      <th></th>\n",
       "      <th>OPEID</th>\n",
       "      <th>Name</th>\n",
       "      <th>Address</th>\n",
       "      <th>City</th>\n",
       "      <th>State</th>\n",
       "      <th>StateDesc</th>\n",
       "      <th>ZipCode</th>\n",
       "      <th>ZipExt</th>\n",
       "      <th>ProgLength</th>\n",
       "      <th>SchoolType</th>\n",
       "      <th>...</th>\n",
       "      <th>Year2</th>\n",
       "      <th>Num2</th>\n",
       "      <th>Denom2</th>\n",
       "      <th>DRate2</th>\n",
       "      <th>PRate2</th>\n",
       "      <th>Year3</th>\n",
       "      <th>Num3</th>\n",
       "      <th>Denom3</th>\n",
       "      <th>DRate3</th>\n",
       "      <th>PRate3</th>\n",
       "    </tr>\n",
       "  </thead>\n",
       "  <tbody>\n",
       "    <tr>\n",
       "      <th>0</th>\n",
       "      <td>1002</td>\n",
       "      <td>ALABAMA AGRICULTURAL &amp; MECHANICAL UNIVERSITY  ...</td>\n",
       "      <td>4900 MERIDIAN STREET                          ...</td>\n",
       "      <td>NORMAL</td>\n",
       "      <td>AL</td>\n",
       "      <td>ALABAMA                                       ...</td>\n",
       "      <td>35762</td>\n",
       "      <td>1357</td>\n",
       "      <td>8</td>\n",
       "      <td>1</td>\n",
       "      <td>...</td>\n",
       "      <td>2015</td>\n",
       "      <td>378.0</td>\n",
       "      <td>1902.0</td>\n",
       "      <td>19.8</td>\n",
       "      <td>A</td>\n",
       "      <td>2014</td>\n",
       "      <td>332.0</td>\n",
       "      <td>1753.0</td>\n",
       "      <td>18.9</td>\n",
       "      <td>A</td>\n",
       "    </tr>\n",
       "    <tr>\n",
       "      <th>1</th>\n",
       "      <td>1003</td>\n",
       "      <td>FAULKNER UNIVERSITY                           ...</td>\n",
       "      <td>5345 ATLANTA HIGHWAY                          ...</td>\n",
       "      <td>MONTGOMERY</td>\n",
       "      <td>AL</td>\n",
       "      <td>ALABAMA                                       ...</td>\n",
       "      <td>36109</td>\n",
       "      <td>3398</td>\n",
       "      <td>8</td>\n",
       "      <td>2</td>\n",
       "      <td>...</td>\n",
       "      <td>2015</td>\n",
       "      <td>180.0</td>\n",
       "      <td>1471.0</td>\n",
       "      <td>12.2</td>\n",
       "      <td>A</td>\n",
       "      <td>2014</td>\n",
       "      <td>192.0</td>\n",
       "      <td>1470.0</td>\n",
       "      <td>13.0</td>\n",
       "      <td>A</td>\n",
       "    </tr>\n",
       "    <tr>\n",
       "      <th>2</th>\n",
       "      <td>1004</td>\n",
       "      <td>UNIVERSITY OF MONTEVALLO                      ...</td>\n",
       "      <td>PALMER CIRCLE                                 ...</td>\n",
       "      <td>MONTEVALLO</td>\n",
       "      <td>AL</td>\n",
       "      <td>ALABAMA                                       ...</td>\n",
       "      <td>35115</td>\n",
       "      <td>6000</td>\n",
       "      <td>8</td>\n",
       "      <td>1</td>\n",
       "      <td>...</td>\n",
       "      <td>2015</td>\n",
       "      <td>72.0</td>\n",
       "      <td>784.0</td>\n",
       "      <td>9.1</td>\n",
       "      <td>A</td>\n",
       "      <td>2014</td>\n",
       "      <td>64.0</td>\n",
       "      <td>793.0</td>\n",
       "      <td>8.0</td>\n",
       "      <td>A</td>\n",
       "    </tr>\n",
       "    <tr>\n",
       "      <th>3</th>\n",
       "      <td>1005</td>\n",
       "      <td>ALABAMA STATE UNIVERSITY                      ...</td>\n",
       "      <td>915 SOUTH JACKSON STREET                      ...</td>\n",
       "      <td>MONTGOMERY</td>\n",
       "      <td>AL</td>\n",
       "      <td>ALABAMA                                       ...</td>\n",
       "      <td>36104</td>\n",
       "      <td>5714</td>\n",
       "      <td>8</td>\n",
       "      <td>1</td>\n",
       "      <td>...</td>\n",
       "      <td>2015</td>\n",
       "      <td>466.0</td>\n",
       "      <td>2208.0</td>\n",
       "      <td>21.1</td>\n",
       "      <td>P</td>\n",
       "      <td>2014</td>\n",
       "      <td>471.0</td>\n",
       "      <td>2419.0</td>\n",
       "      <td>19.4</td>\n",
       "      <td>P</td>\n",
       "    </tr>\n",
       "    <tr>\n",
       "      <th>4</th>\n",
       "      <td>1007</td>\n",
       "      <td>CENTRAL ALABAMA COMMUNITY COLLEGE             ...</td>\n",
       "      <td>1675 CHEROKEE ROAD                            ...</td>\n",
       "      <td>ALEXANDER CITY</td>\n",
       "      <td>AL</td>\n",
       "      <td>ALABAMA                                       ...</td>\n",
       "      <td>35010</td>\n",
       "      <td>0</td>\n",
       "      <td>5</td>\n",
       "      <td>1</td>\n",
       "      <td>...</td>\n",
       "      <td>2015</td>\n",
       "      <td>131.0</td>\n",
       "      <td>579.0</td>\n",
       "      <td>22.6</td>\n",
       "      <td>P</td>\n",
       "      <td>2014</td>\n",
       "      <td>184.0</td>\n",
       "      <td>674.0</td>\n",
       "      <td>27.2</td>\n",
       "      <td>P</td>\n",
       "    </tr>\n",
       "  </tbody>\n",
       "</table>\n",
       "<p>5 rows × 29 columns</p>\n",
       "</div>"
      ],
      "text/plain": [
       "   OPEID                                               Name  \\\n",
       "0   1002  ALABAMA AGRICULTURAL & MECHANICAL UNIVERSITY  ...   \n",
       "1   1003  FAULKNER UNIVERSITY                           ...   \n",
       "2   1004  UNIVERSITY OF MONTEVALLO                      ...   \n",
       "3   1005  ALABAMA STATE UNIVERSITY                      ...   \n",
       "4   1007  CENTRAL ALABAMA COMMUNITY COLLEGE             ...   \n",
       "\n",
       "                                             Address                  City  \\\n",
       "0  4900 MERIDIAN STREET                          ...  NORMAL                 \n",
       "1  5345 ATLANTA HIGHWAY                          ...  MONTGOMERY             \n",
       "2  PALMER CIRCLE                                 ...  MONTEVALLO             \n",
       "3  915 SOUTH JACKSON STREET                      ...  MONTGOMERY             \n",
       "4  1675 CHEROKEE ROAD                            ...  ALEXANDER CITY         \n",
       "\n",
       "  State                                          StateDesc ZipCode ZipExt  \\\n",
       "0    AL  ALABAMA                                       ...   35762   1357   \n",
       "1    AL  ALABAMA                                       ...   36109   3398   \n",
       "2    AL  ALABAMA                                       ...   35115   6000   \n",
       "3    AL  ALABAMA                                       ...   36104   5714   \n",
       "4    AL  ALABAMA                                       ...   35010      0   \n",
       "\n",
       "   ProgLength  SchoolType  ...  Year2   Num2  Denom2  DRate2 PRate2  Year3  \\\n",
       "0           8           1  ...   2015  378.0  1902.0    19.8      A   2014   \n",
       "1           8           2  ...   2015  180.0  1471.0    12.2      A   2014   \n",
       "2           8           1  ...   2015   72.0   784.0     9.1      A   2014   \n",
       "3           8           1  ...   2015  466.0  2208.0    21.1      P   2014   \n",
       "4           5           1  ...   2015  131.0   579.0    22.6      P   2014   \n",
       "\n",
       "    Num3  Denom3  DRate3  PRate3  \n",
       "0  332.0  1753.0    18.9       A  \n",
       "1  192.0  1470.0    13.0       A  \n",
       "2   64.0   793.0     8.0       A  \n",
       "3  471.0  2419.0    19.4       P  \n",
       "4  184.0   674.0    27.2       P  \n",
       "\n",
       "[5 rows x 29 columns]"
      ]
     },
     "execution_count": 3,
     "metadata": {},
     "output_type": "execute_result"
    }
   ],
   "source": [
    "# data preprocessing for readability and uniformity\n",
    "dRate.columns = dRate.columns.str.replace(\"\\n\", \"\")\n",
    "dRate.columns = dRate.columns.str.replace(\" \", \"\")\n",
    "dRate.head()"
   ]
  },
  {
   "cell_type": "markdown",
   "metadata": {},
   "source": [
    "### Default Rates for all Schools"
   ]
  },
  {
   "cell_type": "code",
   "execution_count": 4,
   "metadata": {},
   "outputs": [
    {
     "data": {
      "text/plain": [
       "count    4811.000000\n",
       "mean        9.772584\n",
       "std         7.486622\n",
       "min         0.000000\n",
       "25%         4.050000\n",
       "50%         8.100000\n",
       "75%        14.400000\n",
       "max        66.600000\n",
       "Name: DRate1, dtype: float64"
      ]
     },
     "execution_count": 4,
     "metadata": {},
     "output_type": "execute_result"
    }
   ],
   "source": [
    "# find min and max default values\n",
    "dRate['DRate1'].describe()"
   ]
  },
  {
   "cell_type": "code",
   "execution_count": 5,
   "metadata": {},
   "outputs": [
    {
     "data": {
      "text/plain": [
       "Index(['OPEID', 'Name', 'Address', 'City', 'State', 'StateDesc', 'ZipCode',\n",
       "       'ZipExt', 'ProgLength', 'SchoolType', 'Year1', 'Num1', 'Denom1',\n",
       "       'DRate1', 'PRate1', 'EthnicCode', 'CongDis', 'Region',\n",
       "       'AverageorGreaterthan30', 'Year2', 'Num2', 'Denom2', 'DRate2', 'PRate2',\n",
       "       'Year3', 'Num3', 'Denom3', 'DRate3', 'PRate3'],\n",
       "      dtype='object')"
      ]
     },
     "execution_count": 5,
     "metadata": {},
     "output_type": "execute_result"
    }
   ],
   "source": [
    "# list labels\n",
    "dRate.columns"
   ]
  },
  {
   "cell_type": "code",
   "execution_count": 25,
   "metadata": {},
   "outputs": [],
   "source": [
    "# make copy of dataset for manipulation\n",
    "dRateCopy = dRate.copy()\n",
    "\n",
    "# replace numbered values for schoolType with strings.loc[(df.Event == 'Dance'),'Event']='Hip-Hop'\n",
    "dRateCopy.loc[(dRateCopy.SchoolType == 1),'SchoolType']='Public'\n",
    "dRateCopy.loc[(dRateCopy.SchoolType == 2),'SchoolType']='Private'\n",
    "dRateCopy.loc[(dRateCopy.SchoolType == 3),'SchoolType']='Proprietary'\n",
    "dRateCopy.loc[(dRateCopy.SchoolType == 5),'SchoolType']='Foreign'\n",
    "dRateCopy.loc[(dRateCopy.SchoolType == 6),'SchoolType']='Foreign'\n",
    "dRateCopy.loc[(dRateCopy.SchoolType == 7),'SchoolType']='Foreign'\n",
    "\n",
    "# remove foreign schools\n",
    "dRateCopy = dRateCopy[dRateCopy.SchoolType != 'Foreign']"
   ]
  },
  {
   "cell_type": "code",
   "execution_count": 26,
   "metadata": {},
   "outputs": [],
   "source": [
    "# export dataset for modeling\n",
    "dRateCopy.to_csv('/Users/dillorr/defaultRate/data/cohortDefault2016/dRateCopy.csv', index=False)"
   ]
  },
  {
   "cell_type": "code",
   "execution_count": 8,
   "metadata": {},
   "outputs": [],
   "source": [
    "# group by school type\n",
    "dRateGrouped = dRateCopy.groupby('SchoolType')\n",
    "dRatePublic = dRateGrouped.get_group('Public')\n",
    "dRateNonprofit = dRateGrouped.get_group('Private')\n",
    "dRateProprietary = dRateGrouped.get_group('Proprietary')"
   ]
  },
  {
   "cell_type": "markdown",
   "metadata": {},
   "source": [
    "### Default Rates for Public Schools"
   ]
  },
  {
   "cell_type": "code",
   "execution_count": 9,
   "metadata": {},
   "outputs": [
    {
     "data": {
      "text/plain": [
       "count    1583.000000\n",
       "mean       11.880543\n",
       "std         6.282601\n",
       "min         0.000000\n",
       "25%         6.900000\n",
       "50%        11.700000\n",
       "75%        16.200000\n",
       "max        43.800000\n",
       "Name: DRate1, dtype: float64"
      ]
     },
     "execution_count": 9,
     "metadata": {},
     "output_type": "execute_result"
    }
   ],
   "source": [
    "# find min and max default values\n",
    "dRatePublic['DRate1'].describe()"
   ]
  },
  {
   "cell_type": "markdown",
   "metadata": {},
   "source": [
    "### Default Rates for Private, Nonprofit Schools"
   ]
  },
  {
   "cell_type": "code",
   "execution_count": 10,
   "metadata": {},
   "outputs": [
    {
     "data": {
      "text/plain": [
       "count    1510.000000\n",
       "mean        6.347152\n",
       "std         5.869980\n",
       "min         0.000000\n",
       "25%         2.400000\n",
       "50%         4.800000\n",
       "75%         8.200000\n",
       "max        50.000000\n",
       "Name: DRate1, dtype: float64"
      ]
     },
     "execution_count": 10,
     "metadata": {},
     "output_type": "execute_result"
    }
   ],
   "source": [
    "dRateNonprofit['DRate1'].describe()"
   ]
  },
  {
   "cell_type": "markdown",
   "metadata": {},
   "source": [
    "### Default Rates for Proprietary Schools"
   ]
  },
  {
   "cell_type": "code",
   "execution_count": 11,
   "metadata": {},
   "outputs": [
    {
     "data": {
      "text/plain": [
       "count    1386.000000\n",
       "mean       12.412626\n",
       "std         8.424456\n",
       "min         0.000000\n",
       "25%         6.400000\n",
       "50%        11.100000\n",
       "75%        16.900000\n",
       "max        66.600000\n",
       "Name: DRate1, dtype: float64"
      ]
     },
     "execution_count": 11,
     "metadata": {},
     "output_type": "execute_result"
    }
   ],
   "source": [
    "dRateProprietary['DRate1'].describe()"
   ]
  },
  {
   "cell_type": "markdown",
   "metadata": {},
   "source": [
    "## Visualizations"
   ]
  },
  {
   "cell_type": "code",
   "execution_count": 12,
   "metadata": {},
   "outputs": [],
   "source": [
    "import seaborn as sns\n",
    "import matplotlib.pyplot as plt"
   ]
  },
  {
   "cell_type": "code",
   "execution_count": 13,
   "metadata": {},
   "outputs": [
    {
     "data": {
      "image/png": "[encoded data removed]",
      "text/plain": [
       "<Figure size 432x288 with 1 Axes>"
      ]
     },
     "metadata": {
      "needs_background": "light"
     },
     "output_type": "display_data"
    }
   ],
   "source": [
    "# Box Plot of Default Rates by School Type\n",
    "bx1 = sns.boxplot(x='SchoolType', y='DRate1', data=dRateCopy)\n",
    "bx1.set(xlabel = 'School Type', ylabel = 'Default Rate')\n",
    "plt.show()"
   ]
  },
  {
   "cell_type": "code",
   "execution_count": 14,
   "metadata": {},
   "outputs": [
    {
     "data": {
      "image/png": "[encoded data removed]",
      "text/plain": [
       "<Figure size 864x288 with 3 Axes>"
      ]
     },
     "metadata": {
      "needs_background": "light"
     },
     "output_type": "display_data"
    }
   ],
   "source": [
    "# comparison of distribution of default rate by institution type\n",
    "dRateDistsFacet = sns.FacetGrid(dRateCopy, col=\"SchoolType\", height=4, aspect=1)\n",
    "dRateDistsFacet = dRateDistsFacet.map(sns.distplot, \"DRate1\", bins=25)"
   ]
  },
  {
   "cell_type": "markdown",
   "metadata": {},
   "source": [
    "# Census Data"
   ]
  },
  {
   "cell_type": "code",
   "execution_count": 15,
   "metadata": {},
   "outputs": [
    {
     "data": {
      "application/javascript": [
       "\n",
       "        if (window._pyforest_update_imports_cell) { window._pyforest_update_imports_cell('import pandas as pd'); }\n",
       "    "
      ],
      "text/plain": [
       "<IPython.core.display.Javascript object>"
      ]
     },
     "metadata": {},
     "output_type": "display_data"
    }
   ],
   "source": [
    "# AL-MO\n",
    "censusALMO = pd.read_csv(r'/Users/dillorr/defaultRate/data/census2010/stco-mr2010_al_mo.csv', encoding = \"ISO-8859-1\")"
   ]
  },
  {
   "cell_type": "code",
   "execution_count": 16,
   "metadata": {},
   "outputs": [
    {
     "data": {
      "text/plain": [
       "Index(['SUMLEV', 'STATE', 'COUNTY', 'STNAME', 'CTYNAME', 'SEX', 'ORIGIN',\n",
       "       'AGEGRP', 'IMPRACE', 'RESPOP'],\n",
       "      dtype='object')"
      ]
     },
     "execution_count": 16,
     "metadata": {},
     "output_type": "execute_result"
    }
   ],
   "source": [
    "# list labels\n",
    "censusALMO.columns"
   ]
  },
  {
   "cell_type": "code",
   "execution_count": 17,
   "metadata": {},
   "outputs": [
    {
     "data": {
      "application/javascript": [
       "\n",
       "        if (window._pyforest_update_imports_cell) { window._pyforest_update_imports_cell('import pandas as pd'); }\n",
       "    "
      ],
      "text/plain": [
       "<IPython.core.display.Javascript object>"
      ]
     },
     "metadata": {},
     "output_type": "display_data"
    }
   ],
   "source": [
    "# MT-WY\n",
    "censusMTWY = pd.read_csv(r'/Users/dillorr/defaultRate/data/census2010/stco-mr2010_mt_wy.csv', encoding = \"ISO-8859-1\")"
   ]
  },
  {
   "cell_type": "code",
   "execution_count": 18,
   "metadata": {},
   "outputs": [
    {
     "data": {
      "text/plain": [
       "Index(['SUMLEV', 'STATE', 'COUNTY', 'STNAME', 'CTYNAME', 'SEX', 'ORIGIN',\n",
       "       'AGEGRP', 'IMPRACE', 'RESPOP'],\n",
       "      dtype='object')"
      ]
     },
     "execution_count": 18,
     "metadata": {},
     "output_type": "execute_result"
    }
   ],
   "source": [
    "# list labels\n",
    "censusMTWY.columns"
   ]
  },
  {
   "cell_type": "code",
   "execution_count": 19,
   "metadata": {},
   "outputs": [
    {
     "data": {
      "application/javascript": [
       "\n",
       "        if (window._pyforest_update_imports_cell) { window._pyforest_update_imports_cell('import pandas as pd'); }\n",
       "    "
      ],
      "text/plain": [
       "<IPython.core.display.Javascript object>"
      ]
     },
     "metadata": {},
     "output_type": "display_data"
    }
   ],
   "source": [
    "# Join Census Datasets\n",
    "censusCombined = pd.concat([censusALMO, censusMTWY], axis=0)"
   ]
  },
  {
   "cell_type": "code",
   "execution_count": 20,
   "metadata": {},
   "outputs": [
    {
     "data": {
      "text/plain": [
       "Index(['SUMLEV', 'STATE', 'COUNTY', 'STNAME', 'CTYNAME', 'SEX', 'ORIGIN',\n",
       "       'AGEGRP', 'IMPRACE', 'RESPOP'],\n",
       "      dtype='object')"
      ]
     },
     "execution_count": 20,
     "metadata": {},
     "output_type": "execute_result"
    }
   ],
   "source": [
    "# list combined labels to ensure concat success\n",
    "censusCombined.columns"
   ]
  },
  {
   "cell_type": "code",
   "execution_count": 21,
   "metadata": {},
   "outputs": [],
   "source": [
    "# Export combined census data to CSV\n",
    "# censusCombined.to_csv('/Users/dillorr/defaultRate/data/census2010/censusCombined.csv', index=False)"
   ]
  },
  {
   "cell_type": "code",
   "execution_count": 22,
   "metadata": {},
   "outputs": [
    {
     "data": {
      "application/javascript": [
       "\n",
       "        if (window._pyforest_update_imports_cell) { window._pyforest_update_imports_cell('import pandas as pd'); }\n",
       "    "
      ],
      "text/plain": [
       "<IPython.core.display.Javascript object>"
      ]
     },
     "metadata": {},
     "output_type": "display_data"
    }
   ],
   "source": [
    "# import combined dataset to increase modularity of notebook\n",
    "censusData = pd.read_csv(r'/Users/dillorr/defaultRate/data/census2010/censusCombined.csv', encoding = \"ISO-8859-1\")"
   ]
  },
  {
   "cell_type": "code",
   "execution_count": 23,
   "metadata": {},
   "outputs": [
    {
     "data": {
      "text/plain": [
       "Index(['SUMLEV', 'STATE', 'COUNTY', 'STNAME', 'CTYNAME', 'SEX', 'ORIGIN',\n",
       "       'AGEGRP', 'IMPRACE', 'RESPOP'],\n",
       "      dtype='object')"
      ]
     },
     "execution_count": 23,
     "metadata": {},
     "output_type": "execute_result"
    }
   ],
   "source": [
    "# labels of combined dataset\n",
    "censusData.columns"
   ]
  },
  {
   "cell_type": "code",
   "execution_count": 24,
   "metadata": {},
   "outputs": [
    {
     "data": {
      "text/plain": [
       "1     26782\n",
       "2     10344\n",
       "4     11716\n",
       "5     24766\n",
       "6     58552\n",
       "8     25789\n",
       "9      7301\n",
       "10     2623\n",
       "11     1211\n",
       "12    45675\n",
       "13    61026\n",
       "15     6136\n",
       "16    14443\n",
       "17    37183\n",
       "18    33313\n",
       "19    25911\n",
       "20    27959\n",
       "21    32895\n",
       "22    26657\n",
       "23     6467\n",
       "24    16682\n",
       "25    11979\n",
       "26    35260\n",
       "27    28653\n",
       "28    24992\n",
       "29    36270\n",
       "30    12407\n",
       "31    17969\n",
       "32     8696\n",
       "33     4936\n",
       "34    19765\n",
       "35    15641\n",
       "36    40838\n",
       "37    49502\n",
       "38     8993\n",
       "39    39665\n",
       "40    31390\n",
       "41    20235\n",
       "42    35011\n",
       "44     3544\n",
       "45    22357\n",
       "46    12147\n",
       "47    34201\n",
       "48    97232\n",
       "49    11757\n",
       "50     4828\n",
       "51    54910\n",
       "53    25653\n",
       "54    14623\n",
       "55    26708\n",
       "56     7179\n",
       "Name: STATE, dtype: int64"
      ]
     },
     "execution_count": 24,
     "metadata": {},
     "output_type": "execute_result"
    }
   ],
   "source": [
    "# counts by state\n",
    "stateTotals = censusData['STATE'].value_counts()\n",
    "stateTotals.sort_index()"
   ]
  },
  {
   "cell_type": "code",
   "execution_count": null,
   "metadata": {},
   "outputs": [],
   "source": []
  }
 ],
 "metadata": {
  "kernelspec": {
   "display_name": "Python 3",
   "language": "python",
   "name": "python3"
  },
  "language_info": {
   "codemirror_mode": {
    "name": "ipython",
    "version": 3
   },
   "file_extension": ".py",
   "mimetype": "text/x-python",
   "name": "python",
   "nbconvert_exporter": "python",
   "pygments_lexer": "ipython3",
   "version": "3.7.4"
  }
 },
 "nbformat": 4,
 "nbformat_minor": 4
}
